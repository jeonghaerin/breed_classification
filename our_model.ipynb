{
  "nbformat": 4,
  "nbformat_minor": 0,
  "metadata": {
    "colab": {
      "provenance": [],
      "gpuType": "T4",
      "include_colab_link": true
    },
    "kernelspec": {
      "name": "python3",
      "display_name": "Python 3"
    },
    "language_info": {
      "name": "python"
    },
    "accelerator": "GPU"
  },
  "cells": [
    {
      "cell_type": "markdown",
      "metadata": {
        "id": "view-in-github",
        "colab_type": "text"
      },
      "source": [
        "<a href=\"https://colab.research.google.com/github/jeonghaerin/breed_classification/blob/main/our_model.ipynb\" target=\"_parent\"><img src=\"https://colab.research.google.com/assets/colab-badge.svg\" alt=\"Open In Colab\"/></a>"
      ]
    },
    {
      "cell_type": "code",
      "execution_count": 25,
      "metadata": {
        "id": "FS-djjLHf0ow"
      },
      "outputs": [],
      "source": [
        "# 두 가지 카테고리 분류\n",
        "# zzllrr imagergeek 다운로드\n",
        "# 수집하고 싶은 이미지 검색\n",
        "# 우측 상단 아이콘 클릭 -> Go 버튼 누른후 화면 전환\n",
        "# 필요 없는 이미지, 아이콘 파일 클릭해서 제거\n",
        "# rename 버튼 클릭후 prefix버튼 클릭 이름 명명 규칙 수정\n",
        "# 수정한 이미지 이름 preview 버튼 클릭후 반영 확인\n",
        "# save 누른 후 수집 대기 -> 수집 완료 후\n",
        "# 해당 카테고리 폴더 생성후 모두 저장\n",
        "# 상위 폴더 생성후 카테고리 폴더를 모두 넣기\n",
        "# 상위 폴더 압축 -> our_dataset.zip"
      ]
    },
    {
      "cell_type": "code",
      "source": [
        "# drive에 압축파일 업로드 하고\n",
        "# 아래 코드 실행\n",
        "!unzip /content/our_dataset.zip"
      ],
      "metadata": {
        "id": "ZtNViPSGxn0t",
        "colab": {
          "base_uri": "https://localhost:8080/"
        },
        "outputId": "d6617880-126f-45c0-d656-6796180563da"
      },
      "execution_count": null,
      "outputs": [
        {
          "output_type": "stream",
          "name": "stdout",
          "text": [
            "Archive:  /content/our_dataset.zip\n",
            "replace our_dataset/japanese_spitz/japanese_spitz-001.jpeg? [y]es, [n]o, [A]ll, [N]one, [r]ename: "
          ]
        }
      ]
    },
    {
      "cell_type": "code",
      "source": [
        "# 파일을 접근 -> 메모리에 파일을 올려야 -> 모든 파일의 경로가 필요\n",
        "from glob import glob\n",
        "mother_path = '/content/our_dataset'\n",
        "# dataset 폴더가 없는 상태에서 풀렸다면\n",
        "# mother_path = '/content/\n",
        "glob(mother_path + '/*/*')"
      ],
      "metadata": {
        "id": "H8POhKqk2zPc"
      },
      "execution_count": null,
      "outputs": []
    },
    {
      "cell_type": "code",
      "source": [
        "import os\n",
        "a = '/content/'\n",
        "b = 'our_dataset'\n",
        "os.path.join(a,b) # = a+'/'+b 리눅스, 맥, window os마다 다름"
      ],
      "metadata": {
        "id": "mDhXyRXu4EaU"
      },
      "execution_count": null,
      "outputs": []
    },
    {
      "cell_type": "code",
      "source": [
        "from PIL import Image\n",
        "import numpy as np"
      ],
      "metadata": {
        "id": "ledpZovC6eW7"
      },
      "execution_count": null,
      "outputs": []
    },
    {
      "cell_type": "code",
      "source": [
        "folder_list = ['japanese_spitz', 'pomeranian']\n",
        "train = []\n",
        "label = []\n",
        "for idx , folder_name in enumerate(folder_list):\n",
        "    folder = os.path.join(mother_path, folder_name)\n",
        "    all_files_path = glob(folder+'/*')\n",
        "\n",
        "    for k,file_path in enumerate(all_files_path):\n",
        "        # 파일 불러오기\n",
        "        img = Image.open(file_path)\n",
        "        # 이미지 파일 전처리\n",
        "        img = img.resize((128,128))\n",
        "        img = img.convert('RGB')\n",
        "        np_img = np.asarray(img)\n",
        "        train.append(np_img)\n",
        "        label.append(idx)\n",
        "        if k % 20 == 0:\n",
        "            print(f'{k} / {len(all_files_path)}')\n",
        "np_train = np.array(train)\n",
        "np_label = np.array(label)"
      ],
      "metadata": {
        "id": "0LSRuPmV3WFd"
      },
      "execution_count": null,
      "outputs": []
    },
    {
      "cell_type": "code",
      "source": [
        "print(np.bincount(np_label))\n",
        "print(np_train.shape)\n",
        "#np.save()"
      ],
      "metadata": {
        "id": "_GzqXnNe3kc0"
      },
      "execution_count": null,
      "outputs": []
    },
    {
      "cell_type": "code",
      "source": [
        "from sklearn.model_selection import train_test_split\n",
        "x_train, x_test, y_train, y_test = train_test_split(np_train, np_label, test_size=0.2)\n",
        "print(x_train.shape)\n",
        "print(x_test.shape)\n",
        "print(y_train.shape)\n",
        "print(y_test.shape)"
      ],
      "metadata": {
        "id": "FaRt0S0w9Qbj"
      },
      "execution_count": null,
      "outputs": []
    },
    {
      "cell_type": "code",
      "source": [
        "#xy = (x_train, y_train)\n",
        "#np.save('data.npy',xy)\n",
        "#np.load('data.npy')"
      ],
      "metadata": {
        "id": "HpbanIUn9oIi"
      },
      "execution_count": null,
      "outputs": []
    },
    {
      "cell_type": "code",
      "source": [
        "x_train = x_train / 255.\n",
        "x_test = x_test / 255."
      ],
      "metadata": {
        "id": "6sgR9ybG-Szi"
      },
      "execution_count": null,
      "outputs": []
    },
    {
      "cell_type": "code",
      "source": [
        "import tensorflow as tf\n",
        "from tensorflow.keras import layers, models\n",
        "\n",
        "input_layer = layers.Input(shape=(128,128,3), name='start layer')\n",
        "tower_1 = layers.Conv2D(64 , kernel_size=(1,1) ,\n",
        "                        padding='same', strides=(1,1),\n",
        "                        activation='relu',name = 'tower_1' )(input_layer)\n",
        "tower_2 = layers.Conv2D(64 , kernel_size=(1,1) ,\n",
        "                        padding='same', strides=(1,1),\n",
        "                        activation='relu' , name= 'tower_2_1')(input_layer)\n",
        "tower_2 = layers.Conv2D(64 , kernel_size=(3,3) ,\n",
        "                        padding='same', strides=(1,1),\n",
        "                        activation='relu', name= 'tower_2_2')(tower_2)\n",
        "tower_3 = layers.Conv2D(64 , kernel_size=(1,1) ,\n",
        "                        padding='same', strides=(1,1),\n",
        "                        activation='relu', name= 'tower_3_1')(input_layer)\n",
        "tower_3 = layers.Conv2D(64 , kernel_size=(5,5) ,\n",
        "                        padding='same', strides=(1,1),\n",
        "                        activation='relu', name= 'tower_3_2')(tower_3)\n",
        "tower_4 = layers.MaxPool2D(pool_size=(3,3) , strides=(1,1) ,\n",
        "                           padding='same', name= 'tower_4_1')(input_layer)\n",
        "tower_4 = layers.Conv2D(64 , kernel_size=(1,1) ,\n",
        "                        padding='same', strides=(1,1),\n",
        "                        activation='relu', name= 'tower_4_2')(tower_4)\n",
        "#\n",
        "concat_layer = layers.concatenate([tower_1,tower_2,tower_3,tower_4],axis=3)\n",
        "concat_layer = layers.MaxPool2D(pool_size=(3,3) , strides=(2,2), padding='valid')(concat_layer)\n",
        "##\n",
        "tower_2_1 = layers.Conv2D(120 , kernel_size=(1,1) ,\n",
        "                        padding='same', strides=(1,1),\n",
        "                        activation='relu',name = 'tower_2_1_1' )(concat_layer)\n",
        "tower_2_2_1 = layers.Conv2D(120 , kernel_size=(1,1) ,\n",
        "                        padding='same', strides=(1,1),\n",
        "                        activation='relu' , name= 'tower_2_2_1')(concat_layer)\n",
        "tower_2_2_2 = layers.Conv2D(120 , kernel_size=(3,3) ,\n",
        "                        padding='same', strides=(1,1),\n",
        "                        activation='relu', name= 'tower_2_2_2')(tower_2_2_1)\n",
        "tower_2_3_1 = layers.Conv2D(120 , kernel_size=(1,1) ,\n",
        "                        padding='same', strides=(1,1),\n",
        "                        activation='relu', name= 'tower_2_3_1')(concat_layer)\n",
        "tower_2_3_2 = layers.Conv2D(120 , kernel_size=(5,5) ,\n",
        "                        padding='same', strides=(1,1),\n",
        "                        activation='relu', name= 'tower_2_3_2')(tower_2_3_1)\n",
        "tower_2_4_1 = layers.MaxPool2D(pool_size=(3,3) , strides=(1,1) ,\n",
        "                           padding='same', name= 'tower_2_4_1')(concat_layer)\n",
        "tower_2_4_2 = layers.Conv2D(120 , kernel_size=(1,1) ,\n",
        "                        padding='same', strides=(1,1),\n",
        "                        activation='relu', name= 'tower_2_4_2')(tower_2_4_1)\n",
        "concat_layer_2 = layers.concatenate([tower_2_1,tower_2_2_2,tower_2_3_2,tower_2_4_2],\n",
        "                                  axis=3)\n",
        "concat_layer_2 = layers.MaxPool2D(pool_size=(3,3) , strides=(2,2), padding='valid')(concat_layer_2)\n",
        "#\n",
        "last_avg_pool = layers.AveragePooling2D(pool_size=(31,31) , strides=(1,1), padding='valid')(concat_layer_2)\n",
        "flat_layer = layers.Flatten()(last_avg_pool)\n",
        "output_layer = layers.Dense(1 ,activation='sigmoid')(flat_layer)\n",
        "\n",
        "# 변경 포인트 input, last_avg_pool,output layer\n",
        "model = models.Model(input_layer,output_layer)\n",
        "model.summary()"
      ],
      "metadata": {
        "id": "SQcW60ZA_mYS"
      },
      "execution_count": null,
      "outputs": []
    },
    {
      "cell_type": "code",
      "source": [
        "!mkdir tensorboard_log"
      ],
      "metadata": {
        "id": "Pt0Vnnu8WIgn"
      },
      "execution_count": null,
      "outputs": []
    },
    {
      "cell_type": "code",
      "source": [
        "model.compile(loss='binary_crossentropy',\n",
        "              optimizer='adam',metrics=['accuracy'])\n",
        "tb = tf.keras.callbacks.TensorBoard(log_dir='/content/tensorboard_log',\n",
        "                                    histogram_freq=1)\n",
        "#\n",
        "model.fit(x_train,y_train,\n",
        "          validation_data=(x_test,y_test),\n",
        "          epochs=10,callbacks=[tb])"
      ],
      "metadata": {
        "id": "EknIUahmUCAv"
      },
      "execution_count": null,
      "outputs": []
    },
    {
      "cell_type": "code",
      "source": [
        "from google.colab import files\n",
        "f = files.upload()"
      ],
      "metadata": {
        "id": "Np_FU6T7XqSG"
      },
      "execution_count": null,
      "outputs": []
    },
    {
      "cell_type": "code",
      "source": [
        "test_file_name = list(f.keys())[0]"
      ],
      "metadata": {
        "id": "XmZhrk0bYQNQ"
      },
      "execution_count": null,
      "outputs": []
    },
    {
      "cell_type": "code",
      "source": [
        "img = Image.open(file_path)\n",
        "img = img.resize((128,128))\n",
        "img = img.convert('RGB')\n",
        "data = np.asarray(img)\n",
        "test_image_tensor = np.array([data])\n",
        "test_image_tensor = test_image_tensor / 255.\n",
        "test_image_tensor.shape"
      ],
      "metadata": {
        "id": "krq14lIhYoCe"
      },
      "execution_count": null,
      "outputs": []
    },
    {
      "cell_type": "code",
      "source": [
        "result = model.predict(test_image_tensor)\n",
        "if result[0][0] > 0.5:\n",
        "  print(f'{folder_list[1]} 일 확률이 {(1 - result[0][0]) * 100} % 입니다.')\n",
        "else:\n",
        "  print(f'{folder_list[0]} 일 확률이 {result[0][0] * 100} % 입니다.')\n"
      ],
      "metadata": {
        "id": "vgYEyb2uYu42"
      },
      "execution_count": null,
      "outputs": []
    },
    {
      "cell_type": "markdown",
      "source": [
        "## Normalize를 하는 이유\n",
        "\n",
        "통계 및 통계 응용에서 정규화는 다양한 의미를 가질 수 있습니다. 가장 단순한 경우에, 등급의 정규화는 종종 평균화하기 전에 다른 척도에서 측정된 값을 개념적으로 일반적인 척도로 조정하는 것을 의미합니다."
      ],
      "metadata": {
        "id": "vyNurAXDjaDN"
      }
    },
    {
      "cell_type": "code",
      "source": [],
      "metadata": {
        "id": "QM8E_VSxjlky"
      },
      "execution_count": null,
      "outputs": []
    }
  ]
}